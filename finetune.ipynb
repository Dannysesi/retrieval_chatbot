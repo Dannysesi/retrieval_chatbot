{
 "cells": [
  {
   "cell_type": "code",
   "execution_count": null,
   "metadata": {},
   "outputs": [],
   "source": [
    "from transformers import AutoTokenizer\n",
    "\n",
    "tokenizer = AutoTokenizer.from_pretrained('mistral-7b')\n",
    "\n",
    "# Optionally, add new tokens if necessary (Yoruba-specific tokens)\n",
    "special_tokens_dict = {'additional_special_tokens': ['gba', 'feferu']}\n",
    "tokenizer.add_special_tokens(special_tokens_dict)\n"
   ]
  }
 ],
 "metadata": {
  "language_info": {
   "name": "python"
  }
 },
 "nbformat": 4,
 "nbformat_minor": 2
}
