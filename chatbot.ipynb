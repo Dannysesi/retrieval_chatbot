{
 "cells": [
  {
   "cell_type": "code",
   "execution_count": 1,
   "metadata": {},
   "outputs": [],
   "source": [
    "import argparse\n",
    "import json\n",
    "from argparse import RawTextHelpFormatter\n",
    "import requests\n",
    "from typing import Optional\n"
   ]
  },
  {
   "cell_type": "code",
   "execution_count": 2,
   "metadata": {},
   "outputs": [],
   "source": [
    "BASE_API_URL = \"https://api.langflow.astra.datastax.com\"\n",
    "LANGFLOW_ID = \"a2274e04-730a-4a04-ad69-29fb92f0f9a9\"\n",
    "FLOW_ID = \"bce533cd-ac79-4ecc-b243-86547bde2092\"\n",
    "APPLICATION_TOKEN = \"AstraCS:tGdXQoUyXAslpoFnaEuQvXnS:b56ab98a9b6ebf4cb7909738bab9fbeafeddf6edf0cd97971b146ce6508a4362\"\n",
    "ENDPOINT = \"LeinadFlow\""
   ]
  },
  {
   "cell_type": "code",
   "execution_count": 3,
   "metadata": {},
   "outputs": [],
   "source": [
    "TWEAKS = {\n",
    "  \"ChatInput-meGB1\": {},\n",
    "  \"ChatOutput-zJKHi\": {},\n",
    "  \"Prompt-Wcq1i\": {},\n",
    "  \"Chroma-Q4Vba\": {},\n",
    "  \"File-9DV2I\": {},\n",
    "  \"SplitText-Qc7fc\": {},\n",
    "  \"Chroma-utOIt\": {},\n",
    "  \"ParseData-vYylH\": {},\n",
    "  \"Memory-skdzk\": {},\n",
    "  \"TextInput-XkvDW\": {},\n",
    "  \"MistalAIEmbeddings-nL1BI\": {},\n",
    "  \"GoogleGenerativeAIModel-aVfFj\": {}\n",
    "}"
   ]
  },
  {
   "cell_type": "code",
   "execution_count": 4,
   "metadata": {},
   "outputs": [],
   "source": [
    "def run_flow(message: str,\n",
    "  endpoint: str,\n",
    "  output_type: str = \"chat\",\n",
    "  input_type: str = \"chat\",\n",
    "  tweaks: Optional[dict] = None,\n",
    "  application_token: Optional[str] = None) -> dict:\n",
    "    \"\"\"\n",
    "    Run a flow with a given message and optional tweaks.\n",
    "\n",
    "    :param message: The message to send to the flow\n",
    "    :param endpoint: The ID or the endpoint name of the flow\n",
    "    :param tweaks: Optional tweaks to customize the flow\n",
    "    :return: The JSON response from the flow\n",
    "    \"\"\"\n",
    "    api_url = f\"{BASE_API_URL}/lf/{LANGFLOW_ID}/api/v1/run/{endpoint}\"\n",
    "\n",
    "    payload = {\n",
    "        \"input_value\": message,\n",
    "        \"output_type\": output_type,\n",
    "        \"input_type\": input_type,\n",
    "    }\n",
    "    headers = None\n",
    "    if tweaks:\n",
    "        payload[\"tweaks\"] = tweaks\n",
    "    if application_token:\n",
    "        headers = {\"Authorization\": \"Bearer \" + application_token, \"Content-Type\": \"application/json\"}\n",
    "    response = requests.post(api_url, json=payload, headers=headers)\n",
    "    return response.json()"
   ]
  },
  {
   "cell_type": "code",
   "execution_count": 16,
   "metadata": {},
   "outputs": [],
   "source": [
    "def main():\n",
    "    # Prompt the user for input instead of using argparse\n",
    "    message = input(\"Enter your message: \")\n",
    "    \n",
    "    response = run_flow(\n",
    "        message=message,\n",
    "        endpoint=ENDPOINT,\n",
    "        output_type=\"chat\",\n",
    "        input_type=\"chat\",\n",
    "        tweaks=TWEAKS,\n",
    "        application_token=APPLICATION_TOKEN\n",
    "    )\n",
    "\n",
    "    try:\n",
    "        # Navigate through the JSON structure to get the message text\n",
    "        outputs = response.get(\"outputs\", [])\n",
    "        if outputs and \"results\" in outputs[0][\"outputs\"][0]:\n",
    "            chatbot_message = outputs[0][\"outputs\"][0][\"results\"][\"message\"][\"text\"]\n",
    "            print(f\"Lei_AI: {chatbot_message}\")\n",
    "        else:\n",
    "            print(\"Sorry, I couldn't process that.\")\n",
    "    except (KeyError, IndexError):\n",
    "        print(\"An error occurred while parsing the response.\")\n",
    "    \n",
    "    # print(json.dumps(response, indent=2))"
   ]
  },
  {
   "cell_type": "code",
   "execution_count": 23,
   "metadata": {},
   "outputs": [],
   "source": [
    "def chat_with_bot():\n",
    "\n",
    "    print(\"Chatbot is running! Type 'exit' to stop.\")\n",
    "    \n",
    "    while True:\n",
    "        user_input = input(\"You: \")\n",
    "        print(f'User: {user_input}')\n",
    "        if user_input.lower() == \"exit\":\n",
    "            print(\"Exiting chat.\")\n",
    "            break\n",
    "\n",
    "        # Call the run_flow function to get the response from the chatbot\n",
    "        response = run_flow(\n",
    "            message=user_input,\n",
    "            endpoint=ENDPOINT,\n",
    "            output_type=\"chat\",\n",
    "            input_type=\"chat\",\n",
    "            tweaks=TWEAKS,\n",
    "            application_token=APPLICATION_TOKEN\n",
    "        )\n",
    "        \n",
    "        try:\n",
    "        # Navigate through the JSON structure to get the message text\n",
    "            outputs = response.get(\"outputs\", [])\n",
    "            if outputs and \"results\" in outputs[0][\"outputs\"][0]:\n",
    "                chatbot_message = outputs[0][\"outputs\"][0][\"results\"][\"message\"][\"text\"]\n",
    "                print(f\"Lei_AI: {chatbot_message}\")\n",
    "            else:\n",
    "                print(\"Sorry, I couldn't process that.\")\n",
    "        except (KeyError, IndexError):\n",
    "            print(\"An error occurred while parsing the response.\")"
   ]
  },
  {
   "cell_type": "code",
   "execution_count": 22,
   "metadata": {},
   "outputs": [
    {
     "name": "stdout",
     "output_type": "stream",
     "text": [
      "Chatbot is running! Type 'exit' to stop.\n",
      "Lei_AI: Hi there! I'm Lei_AI, your friendly health assistant. 😊 \n",
      "\n",
      "It sounds like you're not feeling well.  Can you tell me about your symptoms?  This will help me figure out what might be going on.  \n",
      "\n",
      "Lei_AI: Hi there! I understand you're feeling fatigued and have gained weight. It's important to pay attention to your body and I'm here to help. \n",
      "\n",
      "To give you a better idea of what might be going on, could you tell me a little more about your symptoms? For example:\n",
      "\n",
      "* How long have you been feeling fatigued? \n",
      "* Have you noticed any other changes, like feeling colder than usual? \n",
      "\n",
      "The more information you can give me, the better I can assist you. 😊 \n",
      "\n",
      "Lei_AI: Hmm, feeling colder than usual along with fatigue and weight gain for two weeks could point to a few things.  It sounds like it could be **Hypothyroidism**, have you noticed any other changes in your body? \n",
      "\n",
      "Lei_AI: Okay, based on your fatigue, weight gain, sensitivity to cold, and the fact that it's been going on for two weeks, hypothyroidism is a strong possibility. However, it's important to see a doctor to confirm this. They can run some tests and provide the appropriate treatment if needed. 😊 \n",
      "\n",
      "Do you have any other questions or concerns? \n",
      "\n",
      "Exiting chat.\n"
     ]
    }
   ],
   "source": [
    "chat_with_bot()"
   ]
  },
  {
   "cell_type": "code",
   "execution_count": null,
   "metadata": {},
   "outputs": [],
   "source": []
  }
 ],
 "metadata": {
  "kernelspec": {
   "display_name": "Python 3",
   "language": "python",
   "name": "python3"
  },
  "language_info": {
   "codemirror_mode": {
    "name": "ipython",
    "version": 3
   },
   "file_extension": ".py",
   "mimetype": "text/x-python",
   "name": "python",
   "nbconvert_exporter": "python",
   "pygments_lexer": "ipython3",
   "version": "3.11.3"
  }
 },
 "nbformat": 4,
 "nbformat_minor": 2
}
